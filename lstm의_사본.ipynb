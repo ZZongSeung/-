{
  "nbformat": 4,
  "nbformat_minor": 0,
  "metadata": {
    "colab": {
      "name": "lstm",
      "provenance": [],
      "collapsed_sections": [],
      "authorship_tag": "ABX9TyOJrwdmyA4a1m7JGSd3OvTy",
      "include_colab_link": true
    },
    "kernelspec": {
      "name": "python3",
      "display_name": "Python 3"
    },
    "language_info": {
      "name": "python"
    }
  },
  "cells": [
    {
      "cell_type": "markdown",
      "metadata": {
        "id": "view-in-github",
        "colab_type": "text"
      },
      "source": [
        "<a href=\"https://colab.research.google.com/github/ZZongSeung/-/blob/main/lstm%EC%9D%98_%EC%82%AC%EB%B3%B8.ipynb\" target=\"_parent\"><img src=\"https://colab.research.google.com/assets/colab-badge.svg\" alt=\"Open In Colab\"/></a>"
      ]
    },
    {
      "cell_type": "code",
      "metadata": {
        "id": "KMdKZU9bSNCa"
      },
      "source": [
        "import numpy as np \n",
        "import pandas as pd \n",
        "import matplotlib.pyplot as plt\n",
        "import os\n",
        "from keras.models import Sequential\n",
        "from keras.layers import Dense\n",
        "from sklearn.preprocessing import MinMaxScaler\n"
      ],
      "execution_count": 2,
      "outputs": []
    },
    {
      "cell_type": "code",
      "metadata": {
        "id": "lHMFlUbsSiAG"
      },
      "source": [
        "df=pd.read_csv(\"제출용.csv\",encoding=\"cp949\")\n"
      ],
      "execution_count": null,
      "outputs": []
    },
    {
      "cell_type": "code",
      "metadata": {
        "id": "RMtRc9IKSyHC",
        "colab": {
          "base_uri": "https://localhost:8080/",
          "height": 385
        },
        "outputId": "538984fe-1e78-439b-da5e-38ffe1d8bee7"
      },
      "source": [
        "df['일자']=pd.to_datetime(df['일자'])\n",
        "df2=df.sort_values(\"일자\")\n",
        "df2.index=df2['일자']\n",
        "df2.head()"
      ],
      "execution_count": null,
      "outputs": [
        {
          "output_type": "execute_result",
          "data": {
            "text/html": [
              "\n",
              "  <div id=\"df-440f9e8d-a1c3-4388-9f58-b304f4c1246d\">\n",
              "    <div class=\"colab-df-container\">\n",
              "      <div>\n",
              "<style scoped>\n",
              "    .dataframe tbody tr th:only-of-type {\n",
              "        vertical-align: middle;\n",
              "    }\n",
              "\n",
              "    .dataframe tbody tr th {\n",
              "        vertical-align: top;\n",
              "    }\n",
              "\n",
              "    .dataframe thead th {\n",
              "        text-align: right;\n",
              "    }\n",
              "</style>\n",
              "<table border=\"1\" class=\"dataframe\">\n",
              "  <thead>\n",
              "    <tr style=\"text-align: right;\">\n",
              "      <th></th>\n",
              "      <th>Unnamed: 0</th>\n",
              "      <th>X</th>\n",
              "      <th>일자</th>\n",
              "      <th>종가</th>\n",
              "      <th>대비</th>\n",
              "      <th>등락률</th>\n",
              "      <th>시가</th>\n",
              "      <th>고가</th>\n",
              "      <th>저가</th>\n",
              "      <th>거래량</th>\n",
              "      <th>거래대금</th>\n",
              "      <th>상장시가총액</th>\n",
              "      <th>미국금리</th>\n",
              "      <th>한국금리</th>\n",
              "      <th>월</th>\n",
              "      <th>연도</th>\n",
              "    </tr>\n",
              "    <tr>\n",
              "      <th>일자</th>\n",
              "      <th></th>\n",
              "      <th></th>\n",
              "      <th></th>\n",
              "      <th></th>\n",
              "      <th></th>\n",
              "      <th></th>\n",
              "      <th></th>\n",
              "      <th></th>\n",
              "      <th></th>\n",
              "      <th></th>\n",
              "      <th></th>\n",
              "      <th></th>\n",
              "      <th></th>\n",
              "      <th></th>\n",
              "      <th></th>\n",
              "      <th></th>\n",
              "    </tr>\n",
              "  </thead>\n",
              "  <tbody>\n",
              "    <tr>\n",
              "      <th>2007-01-02</th>\n",
              "      <td>3177</td>\n",
              "      <td>1</td>\n",
              "      <td>2007-01-02</td>\n",
              "      <td>1435.26</td>\n",
              "      <td>0.80</td>\n",
              "      <td>0.06</td>\n",
              "      <td>1438.89</td>\n",
              "      <td>1439.71</td>\n",
              "      <td>1430.06</td>\n",
              "      <td>147739</td>\n",
              "      <td>2037041</td>\n",
              "      <td>705331659</td>\n",
              "      <td>5.25</td>\n",
              "      <td>4.5</td>\n",
              "      <td>1</td>\n",
              "      <td>2007</td>\n",
              "    </tr>\n",
              "    <tr>\n",
              "      <th>2007-01-03</th>\n",
              "      <td>3178</td>\n",
              "      <td>2</td>\n",
              "      <td>2007-01-03</td>\n",
              "      <td>1409.35</td>\n",
              "      <td>-25.91</td>\n",
              "      <td>-1.81</td>\n",
              "      <td>1436.42</td>\n",
              "      <td>1437.79</td>\n",
              "      <td>1409.31</td>\n",
              "      <td>203208</td>\n",
              "      <td>2611604</td>\n",
              "      <td>692674665</td>\n",
              "      <td>5.25</td>\n",
              "      <td>4.5</td>\n",
              "      <td>1</td>\n",
              "      <td>2007</td>\n",
              "    </tr>\n",
              "    <tr>\n",
              "      <th>2007-01-04</th>\n",
              "      <td>3179</td>\n",
              "      <td>3</td>\n",
              "      <td>2007-01-04</td>\n",
              "      <td>1397.29</td>\n",
              "      <td>-12.06</td>\n",
              "      <td>-0.86</td>\n",
              "      <td>1410.55</td>\n",
              "      <td>1411.12</td>\n",
              "      <td>1388.50</td>\n",
              "      <td>241172</td>\n",
              "      <td>2967081</td>\n",
              "      <td>686777867</td>\n",
              "      <td>5.25</td>\n",
              "      <td>4.5</td>\n",
              "      <td>1</td>\n",
              "      <td>2007</td>\n",
              "    </tr>\n",
              "    <tr>\n",
              "      <th>2007-01-05</th>\n",
              "      <td>3180</td>\n",
              "      <td>4</td>\n",
              "      <td>2007-01-05</td>\n",
              "      <td>1385.76</td>\n",
              "      <td>-11.53</td>\n",
              "      <td>-0.83</td>\n",
              "      <td>1398.60</td>\n",
              "      <td>1400.59</td>\n",
              "      <td>1372.36</td>\n",
              "      <td>277292</td>\n",
              "      <td>3394972</td>\n",
              "      <td>681185457</td>\n",
              "      <td>5.25</td>\n",
              "      <td>4.5</td>\n",
              "      <td>1</td>\n",
              "      <td>2007</td>\n",
              "    </tr>\n",
              "    <tr>\n",
              "      <th>2007-01-08</th>\n",
              "      <td>3181</td>\n",
              "      <td>5</td>\n",
              "      <td>2007-01-08</td>\n",
              "      <td>1370.81</td>\n",
              "      <td>-14.95</td>\n",
              "      <td>-1.08</td>\n",
              "      <td>1376.76</td>\n",
              "      <td>1384.65</td>\n",
              "      <td>1366.48</td>\n",
              "      <td>177592</td>\n",
              "      <td>2555241</td>\n",
              "      <td>673840181</td>\n",
              "      <td>5.25</td>\n",
              "      <td>4.5</td>\n",
              "      <td>1</td>\n",
              "      <td>2007</td>\n",
              "    </tr>\n",
              "  </tbody>\n",
              "</table>\n",
              "</div>\n",
              "      <button class=\"colab-df-convert\" onclick=\"convertToInteractive('df-440f9e8d-a1c3-4388-9f58-b304f4c1246d')\"\n",
              "              title=\"Convert this dataframe to an interactive table.\"\n",
              "              style=\"display:none;\">\n",
              "        \n",
              "  <svg xmlns=\"http://www.w3.org/2000/svg\" height=\"24px\"viewBox=\"0 0 24 24\"\n",
              "       width=\"24px\">\n",
              "    <path d=\"M0 0h24v24H0V0z\" fill=\"none\"/>\n",
              "    <path d=\"M18.56 5.44l.94 2.06.94-2.06 2.06-.94-2.06-.94-.94-2.06-.94 2.06-2.06.94zm-11 1L8.5 8.5l.94-2.06 2.06-.94-2.06-.94L8.5 2.5l-.94 2.06-2.06.94zm10 10l.94 2.06.94-2.06 2.06-.94-2.06-.94-.94-2.06-.94 2.06-2.06.94z\"/><path d=\"M17.41 7.96l-1.37-1.37c-.4-.4-.92-.59-1.43-.59-.52 0-1.04.2-1.43.59L10.3 9.45l-7.72 7.72c-.78.78-.78 2.05 0 2.83L4 21.41c.39.39.9.59 1.41.59.51 0 1.02-.2 1.41-.59l7.78-7.78 2.81-2.81c.8-.78.8-2.07 0-2.86zM5.41 20L4 18.59l7.72-7.72 1.47 1.35L5.41 20z\"/>\n",
              "  </svg>\n",
              "      </button>\n",
              "      \n",
              "  <style>\n",
              "    .colab-df-container {\n",
              "      display:flex;\n",
              "      flex-wrap:wrap;\n",
              "      gap: 12px;\n",
              "    }\n",
              "\n",
              "    .colab-df-convert {\n",
              "      background-color: #E8F0FE;\n",
              "      border: none;\n",
              "      border-radius: 50%;\n",
              "      cursor: pointer;\n",
              "      display: none;\n",
              "      fill: #1967D2;\n",
              "      height: 32px;\n",
              "      padding: 0 0 0 0;\n",
              "      width: 32px;\n",
              "    }\n",
              "\n",
              "    .colab-df-convert:hover {\n",
              "      background-color: #E2EBFA;\n",
              "      box-shadow: 0px 1px 2px rgba(60, 64, 67, 0.3), 0px 1px 3px 1px rgba(60, 64, 67, 0.15);\n",
              "      fill: #174EA6;\n",
              "    }\n",
              "\n",
              "    [theme=dark] .colab-df-convert {\n",
              "      background-color: #3B4455;\n",
              "      fill: #D2E3FC;\n",
              "    }\n",
              "\n",
              "    [theme=dark] .colab-df-convert:hover {\n",
              "      background-color: #434B5C;\n",
              "      box-shadow: 0px 1px 3px 1px rgba(0, 0, 0, 0.15);\n",
              "      filter: drop-shadow(0px 1px 2px rgba(0, 0, 0, 0.3));\n",
              "      fill: #FFFFFF;\n",
              "    }\n",
              "  </style>\n",
              "\n",
              "      <script>\n",
              "        const buttonEl =\n",
              "          document.querySelector('#df-440f9e8d-a1c3-4388-9f58-b304f4c1246d button.colab-df-convert');\n",
              "        buttonEl.style.display =\n",
              "          google.colab.kernel.accessAllowed ? 'block' : 'none';\n",
              "\n",
              "        async function convertToInteractive(key) {\n",
              "          const element = document.querySelector('#df-440f9e8d-a1c3-4388-9f58-b304f4c1246d');\n",
              "          const dataTable =\n",
              "            await google.colab.kernel.invokeFunction('convertToInteractive',\n",
              "                                                     [key], {});\n",
              "          if (!dataTable) return;\n",
              "\n",
              "          const docLinkHtml = 'Like what you see? Visit the ' +\n",
              "            '<a target=\"_blank\" href=https://colab.research.google.com/notebooks/data_table.ipynb>data table notebook</a>'\n",
              "            + ' to learn more about interactive tables.';\n",
              "          element.innerHTML = '';\n",
              "          dataTable['output_type'] = 'display_data';\n",
              "          await google.colab.output.renderOutput(dataTable, element);\n",
              "          const docLink = document.createElement('div');\n",
              "          docLink.innerHTML = docLinkHtml;\n",
              "          element.appendChild(docLink);\n",
              "        }\n",
              "      </script>\n",
              "    </div>\n",
              "  </div>\n",
              "  "
            ],
            "text/plain": [
              "            Unnamed: 0  X         일자       종가     대비   등락률       시가       고가  \\\n",
              "일자                                                                             \n",
              "2007-01-02        3177  1 2007-01-02  1435.26   0.80  0.06  1438.89  1439.71   \n",
              "2007-01-03        3178  2 2007-01-03  1409.35 -25.91 -1.81  1436.42  1437.79   \n",
              "2007-01-04        3179  3 2007-01-04  1397.29 -12.06 -0.86  1410.55  1411.12   \n",
              "2007-01-05        3180  4 2007-01-05  1385.76 -11.53 -0.83  1398.60  1400.59   \n",
              "2007-01-08        3181  5 2007-01-08  1370.81 -14.95 -1.08  1376.76  1384.65   \n",
              "\n",
              "                 저가     거래량     거래대금     상장시가총액  미국금리  한국금리  월    연도  \n",
              "일자                                                                    \n",
              "2007-01-02  1430.06  147739  2037041  705331659  5.25   4.5  1  2007  \n",
              "2007-01-03  1409.31  203208  2611604  692674665  5.25   4.5  1  2007  \n",
              "2007-01-04  1388.50  241172  2967081  686777867  5.25   4.5  1  2007  \n",
              "2007-01-05  1372.36  277292  3394972  681185457  5.25   4.5  1  2007  \n",
              "2007-01-08  1366.48  177592  2555241  673840181  5.25   4.5  1  2007  "
            ]
          },
          "metadata": {},
          "execution_count": 5
        }
      ]
    },
    {
      "cell_type": "code",
      "metadata": {
        "id": "dYHmJJlpTSeH"
      },
      "source": [
        "plt.plot(df2['일자'],df2['종가'])\n",
        "plt.show()"
      ],
      "execution_count": null,
      "outputs": []
    },
    {
      "cell_type": "code",
      "metadata": {
        "colab": {
          "base_uri": "https://localhost:8080/",
          "height": 885
        },
        "id": "LE6Q5X2_TrnJ",
        "outputId": "261aa45b-c67c-4908-d04d-cdd2461786bc"
      },
      "source": [
        "####데이터 분리 ####\n",
        "split_date = pd.Timestamp('31-12-2019')\n",
        "#시가\t고가\t저가\t거래량\n",
        "train_data=pd.DataFrame(df2.loc[:split_date,['종가','고가','저가']])\n",
        "test_data=pd.DataFrame(df2.loc[split_date:,['종가','고가','저가']])\n",
        "\n",
        "fig,axs=plt.subplots(2,2,figsize=(15,15))\n",
        "\n",
        "axs[0,0].plot( train_data['종가'])\n",
        "axs[1,0].plot(train_data.index, train_data['고가'],color='red')\n",
        "axs[1,1].plot(train_data.index, train_data['저가'],color='green')\n",
        "\n",
        "\n",
        "axs[0,0].plot(test_data['종가'])\n",
        "axs[1,0].plot(test_data.index, test_data['고가'],linestyle='--')\n",
        "axs[1,1].plot(test_data.index, test_data['저가'],linestyle='solid')\n"
      ],
      "execution_count": null,
      "outputs": [
        {
          "output_type": "execute_result",
          "data": {
            "text/plain": [
              "[<matplotlib.lines.Line2D at 0x7f8818ca7f10>]"
            ]
          },
          "metadata": {},
          "execution_count": 28
        },
        {
          "output_type": "display_data",
          "data": {
            "image/png": "[encoded data removed]",
            "text/plain": [
              "<Figure size 1080x1080 with 4 Axes>"
            ]
          },
          "metadata": {
            "needs_background": "light"
          }
        }
      ]
    },
    {
      "cell_type": "code",
      "source": [
        "train_scale=pd.DataFrame(train_scale)\n",
        "train_scale.columns=train_data.columns"
      ],
      "metadata": {
        "id": "dQy6m_di-_vo"
      },
      "execution_count": null,
      "outputs": []
    },
    {
      "cell_type": "code",
      "metadata": {
        "id": "VrgvP2HcUhrw"
      },
      "source": [
        "scaler = MinMaxScaler() \n",
        "total=pd.DataFrame(df2[['종가','고가','저가']])\n",
        "total_scale=scaler.fit_transform(total)\n",
        "train_scale=scaler.fit_transform(train_data)\n",
        "test_scale= scaler.transform(test_data)"
      ],
      "execution_count": null,
      "outputs": []
    },
    {
      "cell_type": "code",
      "source": [
        "def make_dataset(data, label, window_size=20):\n",
        "    feature_list = []\n",
        "    label_list = []\n",
        "    for i in range(len(data) - window_size):\n",
        "        feature_list.append(np.array(data.iloc[i:i+window_size]))\n",
        "        label_list.append(np.array(label.iloc[i+window_size]))\n",
        "    return np.array(feature_list), np.array(label_list)\n",
        "\n",
        "\n",
        "\n",
        "feature_cols = ['고가', '저가']\n",
        "label_cols = ['종가']\n",
        "\n",
        "train_feature = train_scale[feature_cols]\n",
        "train_label = train_scale[label_cols]\n",
        "\n",
        "from sklearn.model_selection import train_test_split\n",
        "\n",
        "train_feature, train_label = make_dataset(train_feature, train_label, 20)\n",
        "\n",
        "x_train, x_valid, y_train, y_valid = train_test_split(train_feature, train_label, test_size=0.2)\n",
        "x_train.shape, x_valid.shape"
      ],
      "metadata": {
        "colab": {
          "base_uri": "https://localhost:8080/"
        },
        "id": "i7rdP2dHAwqo",
        "outputId": "02097223-9c48-4703-b102-f4629b992e16"
      },
      "execution_count": null,
      "outputs": [
        {
          "output_type": "execute_result",
          "data": {
            "text/plain": [
              "((2554, 20, 2), (639, 20, 2))"
            ]
          },
          "metadata": {},
          "execution_count": 38
        }
      ]
    },
    {
      "cell_type": "code",
      "source": [
        "test_scale=pd.DataFrame(test_scale)\n",
        "test_scale.columns=['종가','고가','저가']\n",
        "\n",
        "test_feature = test_scale[feature_cols]\n",
        "test_label = test_scale[label_cols]\n",
        "\n",
        "test_feature.shape, test_label.shape\n",
        "\n",
        "test_feature, test_label = make_dataset(test_feature, test_label, 20)"
      ],
      "metadata": {
        "id": "F1o8JmTQCFwW"
      },
      "execution_count": null,
      "outputs": []
    },
    {
      "cell_type": "code",
      "source": [
        "from keras.models import Sequential\n",
        "from keras.layers import Dense\n",
        "from keras.callbacks import EarlyStopping, ModelCheckpoint\n",
        "from keras.layers import LSTM\n",
        "\n",
        "model = Sequential() #레이어 생성\n",
        "model.add(LSTM(16, \n",
        "               input_shape=(train_feature.shape[1], train_feature.shape[2]), \n",
        "               activation='relu', \n",
        "               return_sequences=False) #16개의 LSTM 레이어 생성,활성화 함수는 렐루(hidden layer)\n",
        "          )\n",
        "\n",
        "model.add(Dense(1)) #출력층 ㅅㅂ 왜 1로 했지?\n",
        "#"
      ],
      "metadata": {
        "id": "kRLc6btFCzwB"
      },
      "execution_count": null,
      "outputs": []
    },
    {
      "cell_type": "code",
      "source": [
        "import os\n",
        "\n",
        "model.compile(loss='mean_squared_error', optimizer='adam')#손실함수는 MSE, 최적화함수\n",
        "early_stop = EarlyStopping(monitor='val_loss', patience=5) #조기종료 실시_다 할 필요는 없음, patience=5는 5번 연속으로 값이 향상, 즉 손실함수의 값이 줄지 않으면 종료  \n",
        "\n",
        "model_path = 'model'\n",
        "filename = os.path.join(model_path, 'tmp_checkpoint.h5')#저장 \n",
        "checkpoint = ModelCheckpoint(filename, monitor='val_loss', verbose=1, save_best_only=True, mode='auto') #저장\n",
        "\n",
        "history = model.fit(x_train, y_train, \n",
        "                                    epochs=200, \n",
        "                                    batch_size=16,\n",
        "                                    validation_data=(x_valid, y_valid), \n",
        "                                    callbacks=[early_stop, checkpoint]) #확률적 경사하강법에서 파생_즉 신경망의 파생된 개념이기 때문에 batch_size나 등등을 이용함."
      ],
      "metadata": {
        "colab": {
          "base_uri": "https://localhost:8080/"
        },
        "id": "tS5puyJ8C0GL",
        "outputId": "e0d2f1f0-13a9-4686-fbca-28904e719a9a"
      },
      "execution_count": null,
      "outputs": [
        {
          "output_type": "stream",
          "name": "stdout",
          "text": [
            "Epoch 1/200\n",
            "158/160 [============================>.] - ETA: 0s - loss: 0.1773\n",
            "Epoch 1: val_loss improved from inf to 0.00804, saving model to model/tmp_checkpoint.h5\n",
            "160/160 [==============================] - 5s 16ms/step - loss: 0.1755 - val_loss: 0.0080\n",
            "Epoch 2/200\n",
            "159/160 [============================>.] - ETA: 0s - loss: 0.0049\n",
            "Epoch 2: val_loss improved from 0.00804 to 0.00311, saving model to model/tmp_checkpoint.h5\n",
            "160/160 [==============================] - 3s 17ms/step - loss: 0.0049 - val_loss: 0.0031\n",
            "Epoch 3/200\n",
            "159/160 [============================>.] - ETA: 0s - loss: 0.0027\n",
            "Epoch 3: val_loss improved from 0.00311 to 0.00225, saving model to model/tmp_checkpoint.h5\n",
            "160/160 [==============================] - 3s 16ms/step - loss: 0.0027 - val_loss: 0.0022\n",
            "Epoch 4/200\n",
            "157/160 [============================>.] - ETA: 0s - loss: 0.0023\n",
            "Epoch 4: val_loss improved from 0.00225 to 0.00209, saving model to model/tmp_checkpoint.h5\n",
            "160/160 [==============================] - 3s 18ms/step - loss: 0.0023 - val_loss: 0.0021\n",
            "Epoch 5/200\n",
            "157/160 [============================>.] - ETA: 0s - loss: 0.0022\n",
            "Epoch 5: val_loss improved from 0.00209 to 0.00201, saving model to model/tmp_checkpoint.h5\n",
            "160/160 [==============================] - 1s 8ms/step - loss: 0.0021 - val_loss: 0.0020\n",
            "Epoch 6/200\n",
            "157/160 [============================>.] - ETA: 0s - loss: 0.0021\n",
            "Epoch 6: val_loss improved from 0.00201 to 0.00195, saving model to model/tmp_checkpoint.h5\n",
            "160/160 [==============================] - 1s 8ms/step - loss: 0.0021 - val_loss: 0.0019\n",
            "Epoch 7/200\n",
            "159/160 [============================>.] - ETA: 0s - loss: 0.0020\n",
            "Epoch 7: val_loss improved from 0.00195 to 0.00188, saving model to model/tmp_checkpoint.h5\n",
            "160/160 [==============================] - 1s 8ms/step - loss: 0.0020 - val_loss: 0.0019\n",
            "Epoch 8/200\n",
            "156/160 [============================>.] - ETA: 0s - loss: 0.0019\n",
            "Epoch 8: val_loss improved from 0.00188 to 0.00182, saving model to model/tmp_checkpoint.h5\n",
            "160/160 [==============================] - 1s 8ms/step - loss: 0.0019 - val_loss: 0.0018\n",
            "Epoch 9/200\n",
            "155/160 [============================>.] - ETA: 0s - loss: 0.0019\n",
            "Epoch 9: val_loss improved from 0.00182 to 0.00178, saving model to model/tmp_checkpoint.h5\n",
            "160/160 [==============================] - 1s 8ms/step - loss: 0.0019 - val_loss: 0.0018\n",
            "Epoch 10/200\n",
            "157/160 [============================>.] - ETA: 0s - loss: 0.0018\n",
            "Epoch 10: val_loss improved from 0.00178 to 0.00165, saving model to model/tmp_checkpoint.h5\n",
            "160/160 [==============================] - 1s 8ms/step - loss: 0.0018 - val_loss: 0.0017\n",
            "Epoch 11/200\n",
            "157/160 [============================>.] - ETA: 0s - loss: 0.0017\n",
            "Epoch 11: val_loss improved from 0.00165 to 0.00161, saving model to model/tmp_checkpoint.h5\n",
            "160/160 [==============================] - 1s 8ms/step - loss: 0.0017 - val_loss: 0.0016\n",
            "Epoch 12/200\n",
            "157/160 [============================>.] - ETA: 0s - loss: 0.0016\n",
            "Epoch 12: val_loss improved from 0.00161 to 0.00148, saving model to model/tmp_checkpoint.h5\n",
            "160/160 [==============================] - 1s 8ms/step - loss: 0.0016 - val_loss: 0.0015\n",
            "Epoch 13/200\n",
            "159/160 [============================>.] - ETA: 0s - loss: 0.0016\n",
            "Epoch 13: val_loss improved from 0.00148 to 0.00143, saving model to model/tmp_checkpoint.h5\n",
            "160/160 [==============================] - 1s 8ms/step - loss: 0.0015 - val_loss: 0.0014\n",
            "Epoch 14/200\n",
            "155/160 [============================>.] - ETA: 0s - loss: 0.0015\n",
            "Epoch 14: val_loss improved from 0.00143 to 0.00132, saving model to model/tmp_checkpoint.h5\n",
            "160/160 [==============================] - 1s 8ms/step - loss: 0.0014 - val_loss: 0.0013\n",
            "Epoch 15/200\n",
            "153/160 [===========================>..] - ETA: 0s - loss: 0.0014\n",
            "Epoch 15: val_loss improved from 0.00132 to 0.00126, saving model to model/tmp_checkpoint.h5\n",
            "160/160 [==============================] - 1s 8ms/step - loss: 0.0014 - val_loss: 0.0013\n",
            "Epoch 16/200\n",
            "155/160 [============================>.] - ETA: 0s - loss: 0.0013\n",
            "Epoch 16: val_loss improved from 0.00126 to 0.00119, saving model to model/tmp_checkpoint.h5\n",
            "160/160 [==============================] - 1s 8ms/step - loss: 0.0013 - val_loss: 0.0012\n",
            "Epoch 17/200\n",
            "154/160 [===========================>..] - ETA: 0s - loss: 0.0012\n",
            "Epoch 17: val_loss improved from 0.00119 to 0.00109, saving model to model/tmp_checkpoint.h5\n",
            "160/160 [==============================] - 1s 8ms/step - loss: 0.0012 - val_loss: 0.0011\n",
            "Epoch 18/200\n",
            "154/160 [===========================>..] - ETA: 0s - loss: 0.0011\n",
            "Epoch 18: val_loss improved from 0.00109 to 0.00103, saving model to model/tmp_checkpoint.h5\n",
            "160/160 [==============================] - 1s 8ms/step - loss: 0.0011 - val_loss: 0.0010\n",
            "Epoch 19/200\n",
            "158/160 [============================>.] - ETA: 0s - loss: 0.0011\n",
            "Epoch 19: val_loss improved from 0.00103 to 0.00099, saving model to model/tmp_checkpoint.h5\n",
            "160/160 [==============================] - 1s 8ms/step - loss: 0.0011 - val_loss: 9.9042e-04\n",
            "Epoch 20/200\n",
            "159/160 [============================>.] - ETA: 0s - loss: 9.9071e-04\n",
            "Epoch 20: val_loss improved from 0.00099 to 0.00091, saving model to model/tmp_checkpoint.h5\n",
            "160/160 [==============================] - 1s 8ms/step - loss: 9.9137e-04 - val_loss: 9.1016e-04\n",
            "Epoch 21/200\n",
            "158/160 [============================>.] - ETA: 0s - loss: 9.2515e-04\n",
            "Epoch 21: val_loss improved from 0.00091 to 0.00089, saving model to model/tmp_checkpoint.h5\n",
            "160/160 [==============================] - 1s 8ms/step - loss: 9.3246e-04 - val_loss: 8.9329e-04\n",
            "Epoch 22/200\n",
            "157/160 [============================>.] - ETA: 0s - loss: 8.8220e-04\n",
            "Epoch 22: val_loss did not improve from 0.00089\n",
            "160/160 [==============================] - 1s 8ms/step - loss: 8.8377e-04 - val_loss: 8.9699e-04\n",
            "Epoch 23/200\n",
            "160/160 [==============================] - ETA: 0s - loss: 8.3068e-04\n",
            "Epoch 23: val_loss improved from 0.00089 to 0.00079, saving model to model/tmp_checkpoint.h5\n",
            "160/160 [==============================] - 1s 8ms/step - loss: 8.3068e-04 - val_loss: 7.9400e-04\n",
            "Epoch 24/200\n",
            "158/160 [============================>.] - ETA: 0s - loss: 7.8659e-04\n",
            "Epoch 24: val_loss improved from 0.00079 to 0.00073, saving model to model/tmp_checkpoint.h5\n",
            "160/160 [==============================] - 1s 8ms/step - loss: 7.9007e-04 - val_loss: 7.2628e-04\n",
            "Epoch 25/200\n",
            "154/160 [===========================>..] - ETA: 0s - loss: 7.3939e-04\n",
            "Epoch 25: val_loss improved from 0.00073 to 0.00068, saving model to model/tmp_checkpoint.h5\n",
            "160/160 [==============================] - 1s 8ms/step - loss: 7.3575e-04 - val_loss: 6.7922e-04\n",
            "Epoch 26/200\n",
            "156/160 [============================>.] - ETA: 0s - loss: 7.0114e-04\n",
            "Epoch 26: val_loss improved from 0.00068 to 0.00067, saving model to model/tmp_checkpoint.h5\n",
            "160/160 [==============================] - 1s 8ms/step - loss: 7.0392e-04 - val_loss: 6.7317e-04\n",
            "Epoch 27/200\n",
            "155/160 [============================>.] - ETA: 0s - loss: 6.9254e-04\n",
            "Epoch 27: val_loss improved from 0.00067 to 0.00063, saving model to model/tmp_checkpoint.h5\n",
            "160/160 [==============================] - 1s 8ms/step - loss: 6.8663e-04 - val_loss: 6.3110e-04\n",
            "Epoch 28/200\n",
            "154/160 [===========================>..] - ETA: 0s - loss: 6.5344e-04\n",
            "Epoch 28: val_loss improved from 0.00063 to 0.00060, saving model to model/tmp_checkpoint.h5\n",
            "160/160 [==============================] - 1s 8ms/step - loss: 6.4864e-04 - val_loss: 6.0133e-04\n",
            "Epoch 29/200\n",
            "154/160 [===========================>..] - ETA: 0s - loss: 6.2921e-04\n",
            "Epoch 29: val_loss did not improve from 0.00060\n",
            "160/160 [==============================] - 1s 8ms/step - loss: 6.2598e-04 - val_loss: 6.3483e-04\n",
            "Epoch 30/200\n",
            "155/160 [============================>.] - ETA: 0s - loss: 6.0081e-04\n",
            "Epoch 30: val_loss improved from 0.00060 to 0.00056, saving model to model/tmp_checkpoint.h5\n",
            "160/160 [==============================] - 1s 8ms/step - loss: 6.0307e-04 - val_loss: 5.6087e-04\n",
            "Epoch 31/200\n",
            "160/160 [==============================] - ETA: 0s - loss: 5.9076e-04\n",
            "Epoch 31: val_loss improved from 0.00056 to 0.00054, saving model to model/tmp_checkpoint.h5\n",
            "160/160 [==============================] - 1s 8ms/step - loss: 5.9076e-04 - val_loss: 5.4164e-04\n",
            "Epoch 32/200\n",
            "156/160 [============================>.] - ETA: 0s - loss: 5.6874e-04\n",
            "Epoch 32: val_loss improved from 0.00054 to 0.00054, saving model to model/tmp_checkpoint.h5\n",
            "160/160 [==============================] - 1s 8ms/step - loss: 5.6946e-04 - val_loss: 5.3930e-04\n",
            "Epoch 33/200\n",
            "160/160 [==============================] - ETA: 0s - loss: 5.5028e-04\n",
            "Epoch 33: val_loss improved from 0.00054 to 0.00053, saving model to model/tmp_checkpoint.h5\n",
            "160/160 [==============================] - 1s 8ms/step - loss: 5.5028e-04 - val_loss: 5.3291e-04\n",
            "Epoch 34/200\n",
            "158/160 [============================>.] - ETA: 0s - loss: 5.3837e-04\n",
            "Epoch 34: val_loss improved from 0.00053 to 0.00050, saving model to model/tmp_checkpoint.h5\n",
            "160/160 [==============================] - 1s 8ms/step - loss: 5.3673e-04 - val_loss: 5.0489e-04\n",
            "Epoch 35/200\n",
            "155/160 [============================>.] - ETA: 0s - loss: 5.3450e-04\n",
            "Epoch 35: val_loss did not improve from 0.00050\n",
            "160/160 [==============================] - 1s 8ms/step - loss: 5.3194e-04 - val_loss: 5.1912e-04\n",
            "Epoch 36/200\n",
            "153/160 [===========================>..] - ETA: 0s - loss: 5.3397e-04\n",
            "Epoch 36: val_loss improved from 0.00050 to 0.00048, saving model to model/tmp_checkpoint.h5\n",
            "160/160 [==============================] - 1s 8ms/step - loss: 5.2459e-04 - val_loss: 4.7669e-04\n",
            "Epoch 37/200\n",
            "154/160 [===========================>..] - ETA: 0s - loss: 4.9485e-04\n",
            "Epoch 37: val_loss improved from 0.00048 to 0.00047, saving model to model/tmp_checkpoint.h5\n",
            "160/160 [==============================] - 1s 8ms/step - loss: 4.9381e-04 - val_loss: 4.7383e-04\n",
            "Epoch 38/200\n",
            "158/160 [============================>.] - ETA: 0s - loss: 4.9753e-04\n",
            "Epoch 38: val_loss did not improve from 0.00047\n",
            "160/160 [==============================] - 1s 8ms/step - loss: 4.9473e-04 - val_loss: 4.8006e-04\n",
            "Epoch 39/200\n",
            "159/160 [============================>.] - ETA: 0s - loss: 4.7524e-04\n",
            "Epoch 39: val_loss improved from 0.00047 to 0.00045, saving model to model/tmp_checkpoint.h5\n",
            "160/160 [==============================] - 1s 8ms/step - loss: 4.7434e-04 - val_loss: 4.5446e-04\n",
            "Epoch 40/200\n",
            "154/160 [===========================>..] - ETA: 0s - loss: 4.7038e-04\n",
            "Epoch 40: val_loss improved from 0.00045 to 0.00043, saving model to model/tmp_checkpoint.h5\n",
            "160/160 [==============================] - 1s 8ms/step - loss: 4.7279e-04 - val_loss: 4.3112e-04\n",
            "Epoch 41/200\n",
            "157/160 [============================>.] - ETA: 0s - loss: 4.5545e-04\n",
            "Epoch 41: val_loss improved from 0.00043 to 0.00042, saving model to model/tmp_checkpoint.h5\n",
            "160/160 [==============================] - 1s 8ms/step - loss: 4.5354e-04 - val_loss: 4.2131e-04\n",
            "Epoch 42/200\n",
            "155/160 [============================>.] - ETA: 0s - loss: 4.4295e-04\n",
            "Epoch 42: val_loss did not improve from 0.00042\n",
            "160/160 [==============================] - 1s 8ms/step - loss: 4.4412e-04 - val_loss: 4.3166e-04\n",
            "Epoch 43/200\n",
            "159/160 [============================>.] - ETA: 0s - loss: 4.3277e-04\n",
            "Epoch 43: val_loss improved from 0.00042 to 0.00042, saving model to model/tmp_checkpoint.h5\n",
            "160/160 [==============================] - 1s 9ms/step - loss: 4.3334e-04 - val_loss: 4.1714e-04\n",
            "Epoch 44/200\n",
            "160/160 [==============================] - ETA: 0s - loss: 4.4583e-04\n",
            "Epoch 44: val_loss improved from 0.00042 to 0.00040, saving model to model/tmp_checkpoint.h5\n",
            "160/160 [==============================] - 1s 8ms/step - loss: 4.4583e-04 - val_loss: 3.9708e-04\n",
            "Epoch 45/200\n",
            "155/160 [============================>.] - ETA: 0s - loss: 4.2211e-04\n",
            "Epoch 45: val_loss improved from 0.00040 to 0.00039, saving model to model/tmp_checkpoint.h5\n",
            "160/160 [==============================] - 1s 8ms/step - loss: 4.1896e-04 - val_loss: 3.8649e-04\n",
            "Epoch 46/200\n",
            "156/160 [============================>.] - ETA: 0s - loss: 4.0805e-04\n",
            "Epoch 46: val_loss did not improve from 0.00039\n",
            "160/160 [==============================] - 1s 8ms/step - loss: 4.1048e-04 - val_loss: 3.8872e-04\n",
            "Epoch 47/200\n",
            "159/160 [============================>.] - ETA: 0s - loss: 4.0532e-04\n",
            "Epoch 47: val_loss did not improve from 0.00039\n",
            "160/160 [==============================] - 1s 8ms/step - loss: 4.0607e-04 - val_loss: 4.0334e-04\n",
            "Epoch 48/200\n",
            "160/160 [==============================] - ETA: 0s - loss: 3.8320e-04\n",
            "Epoch 48: val_loss did not improve from 0.00039\n",
            "160/160 [==============================] - 1s 8ms/step - loss: 3.8320e-04 - val_loss: 4.2011e-04\n",
            "Epoch 49/200\n",
            "153/160 [===========================>..] - ETA: 0s - loss: 3.8351e-04\n",
            "Epoch 49: val_loss improved from 0.00039 to 0.00036, saving model to model/tmp_checkpoint.h5\n",
            "160/160 [==============================] - 1s 8ms/step - loss: 3.8702e-04 - val_loss: 3.5988e-04\n",
            "Epoch 50/200\n",
            "156/160 [============================>.] - ETA: 0s - loss: 3.7210e-04\n",
            "Epoch 50: val_loss improved from 0.00036 to 0.00036, saving model to model/tmp_checkpoint.h5\n",
            "160/160 [==============================] - 1s 8ms/step - loss: 3.7223e-04 - val_loss: 3.5804e-04\n",
            "Epoch 51/200\n",
            "160/160 [==============================] - ETA: 0s - loss: 3.7411e-04\n",
            "Epoch 51: val_loss improved from 0.00036 to 0.00035, saving model to model/tmp_checkpoint.h5\n",
            "160/160 [==============================] - 1s 8ms/step - loss: 3.7411e-04 - val_loss: 3.5336e-04\n",
            "Epoch 52/200\n",
            "159/160 [============================>.] - ETA: 0s - loss: 3.5852e-04\n",
            "Epoch 52: val_loss did not improve from 0.00035\n",
            "160/160 [==============================] - 1s 8ms/step - loss: 3.5877e-04 - val_loss: 3.6035e-04\n",
            "Epoch 53/200\n",
            "153/160 [===========================>..] - ETA: 0s - loss: 3.6069e-04\n",
            "Epoch 53: val_loss improved from 0.00035 to 0.00034, saving model to model/tmp_checkpoint.h5\n",
            "160/160 [==============================] - 1s 8ms/step - loss: 3.5428e-04 - val_loss: 3.3840e-04\n",
            "Epoch 54/200\n",
            "158/160 [============================>.] - ETA: 0s - loss: 3.4706e-04\n",
            "Epoch 54: val_loss did not improve from 0.00034\n",
            "160/160 [==============================] - 1s 8ms/step - loss: 3.4607e-04 - val_loss: 3.7871e-04\n",
            "Epoch 55/200\n",
            "157/160 [============================>.] - ETA: 0s - loss: 3.3976e-04\n",
            "Epoch 55: val_loss improved from 0.00034 to 0.00032, saving model to model/tmp_checkpoint.h5\n",
            "160/160 [==============================] - 1s 8ms/step - loss: 3.3943e-04 - val_loss: 3.2349e-04\n",
            "Epoch 56/200\n",
            "155/160 [============================>.] - ETA: 0s - loss: 3.3436e-04\n",
            "Epoch 56: val_loss improved from 0.00032 to 0.00032, saving model to model/tmp_checkpoint.h5\n",
            "160/160 [==============================] - 1s 8ms/step - loss: 3.3367e-04 - val_loss: 3.1719e-04\n",
            "Epoch 57/200\n",
            "159/160 [============================>.] - ETA: 0s - loss: 3.3594e-04\n",
            "Epoch 57: val_loss improved from 0.00032 to 0.00032, saving model to model/tmp_checkpoint.h5\n",
            "160/160 [==============================] - 1s 8ms/step - loss: 3.3530e-04 - val_loss: 3.1636e-04\n",
            "Epoch 58/200\n",
            "155/160 [============================>.] - ETA: 0s - loss: 3.3954e-04\n",
            "Epoch 58: val_loss improved from 0.00032 to 0.00032, saving model to model/tmp_checkpoint.h5\n",
            "160/160 [==============================] - 1s 8ms/step - loss: 3.3856e-04 - val_loss: 3.1623e-04\n",
            "Epoch 59/200\n",
            "159/160 [============================>.] - ETA: 0s - loss: 3.2156e-04\n",
            "Epoch 59: val_loss improved from 0.00032 to 0.00031, saving model to model/tmp_checkpoint.h5\n",
            "160/160 [==============================] - 2s 13ms/step - loss: 3.2195e-04 - val_loss: 3.1276e-04\n",
            "Epoch 60/200\n",
            "156/160 [============================>.] - ETA: 0s - loss: 3.1828e-04\n",
            "Epoch 60: val_loss improved from 0.00031 to 0.00030, saving model to model/tmp_checkpoint.h5\n",
            "160/160 [==============================] - 1s 8ms/step - loss: 3.1747e-04 - val_loss: 3.0233e-04\n",
            "Epoch 61/200\n",
            "159/160 [============================>.] - ETA: 0s - loss: 3.0811e-04\n",
            "Epoch 61: val_loss did not improve from 0.00030\n",
            "160/160 [==============================] - 1s 8ms/step - loss: 3.0758e-04 - val_loss: 3.5476e-04\n",
            "Epoch 62/200\n",
            "157/160 [============================>.] - ETA: 0s - loss: 2.9969e-04\n",
            "Epoch 62: val_loss did not improve from 0.00030\n",
            "160/160 [==============================] - 1s 8ms/step - loss: 3.0024e-04 - val_loss: 3.0352e-04\n",
            "Epoch 63/200\n",
            "159/160 [============================>.] - ETA: 0s - loss: 2.9728e-04\n",
            "Epoch 63: val_loss did not improve from 0.00030\n",
            "160/160 [==============================] - 1s 8ms/step - loss: 2.9774e-04 - val_loss: 3.5413e-04\n",
            "Epoch 64/200\n",
            "159/160 [============================>.] - ETA: 0s - loss: 2.9566e-04\n",
            "Epoch 64: val_loss improved from 0.00030 to 0.00029, saving model to model/tmp_checkpoint.h5\n",
            "160/160 [==============================] - 1s 8ms/step - loss: 2.9526e-04 - val_loss: 2.9271e-04\n",
            "Epoch 65/200\n",
            "158/160 [============================>.] - ETA: 0s - loss: 2.9041e-04\n",
            "Epoch 65: val_loss improved from 0.00029 to 0.00028, saving model to model/tmp_checkpoint.h5\n",
            "160/160 [==============================] - 1s 8ms/step - loss: 2.9101e-04 - val_loss: 2.7929e-04\n",
            "Epoch 66/200\n",
            "159/160 [============================>.] - ETA: 0s - loss: 2.7981e-04\n",
            "Epoch 66: val_loss improved from 0.00028 to 0.00027, saving model to model/tmp_checkpoint.h5\n",
            "160/160 [==============================] - 1s 9ms/step - loss: 2.8070e-04 - val_loss: 2.7289e-04\n",
            "Epoch 67/200\n",
            "155/160 [============================>.] - ETA: 0s - loss: 2.8189e-04\n",
            "Epoch 67: val_loss did not improve from 0.00027\n",
            "160/160 [==============================] - 1s 8ms/step - loss: 2.8369e-04 - val_loss: 3.1219e-04\n",
            "Epoch 68/200\n",
            "154/160 [===========================>..] - ETA: 0s - loss: 2.7400e-04\n",
            "Epoch 68: val_loss improved from 0.00027 to 0.00027, saving model to model/tmp_checkpoint.h5\n",
            "160/160 [==============================] - 1s 8ms/step - loss: 2.7398e-04 - val_loss: 2.7029e-04\n",
            "Epoch 69/200\n",
            "155/160 [============================>.] - ETA: 0s - loss: 2.7967e-04\n",
            "Epoch 69: val_loss improved from 0.00027 to 0.00027, saving model to model/tmp_checkpoint.h5\n",
            "160/160 [==============================] - 1s 8ms/step - loss: 2.7717e-04 - val_loss: 2.6777e-04\n",
            "Epoch 70/200\n",
            "160/160 [==============================] - ETA: 0s - loss: 2.6504e-04\n",
            "Epoch 70: val_loss did not improve from 0.00027\n",
            "160/160 [==============================] - 1s 8ms/step - loss: 2.6504e-04 - val_loss: 2.7152e-04\n",
            "Epoch 71/200\n",
            "157/160 [============================>.] - ETA: 0s - loss: 2.6775e-04\n",
            "Epoch 71: val_loss improved from 0.00027 to 0.00026, saving model to model/tmp_checkpoint.h5\n",
            "160/160 [==============================] - 1s 8ms/step - loss: 2.6776e-04 - val_loss: 2.5699e-04\n",
            "Epoch 72/200\n",
            "159/160 [============================>.] - ETA: 0s - loss: 2.7358e-04\n",
            "Epoch 72: val_loss did not improve from 0.00026\n",
            "160/160 [==============================] - 1s 8ms/step - loss: 2.7418e-04 - val_loss: 2.9609e-04\n",
            "Epoch 73/200\n",
            "160/160 [==============================] - ETA: 0s - loss: 2.6227e-04\n",
            "Epoch 73: val_loss did not improve from 0.00026\n",
            "160/160 [==============================] - 1s 8ms/step - loss: 2.6227e-04 - val_loss: 2.6487e-04\n",
            "Epoch 74/200\n",
            "155/160 [============================>.] - ETA: 0s - loss: 2.5844e-04\n",
            "Epoch 74: val_loss improved from 0.00026 to 0.00025, saving model to model/tmp_checkpoint.h5\n",
            "160/160 [==============================] - 1s 9ms/step - loss: 2.6240e-04 - val_loss: 2.5405e-04\n",
            "Epoch 75/200\n",
            "159/160 [============================>.] - ETA: 0s - loss: 2.5596e-04\n",
            "Epoch 75: val_loss did not improve from 0.00025\n",
            "160/160 [==============================] - 1s 8ms/step - loss: 2.5515e-04 - val_loss: 2.6367e-04\n",
            "Epoch 76/200\n",
            "156/160 [============================>.] - ETA: 0s - loss: 2.4966e-04\n",
            "Epoch 76: val_loss did not improve from 0.00025\n",
            "160/160 [==============================] - 1s 8ms/step - loss: 2.5221e-04 - val_loss: 2.5460e-04\n",
            "Epoch 77/200\n",
            "156/160 [============================>.] - ETA: 0s - loss: 2.5195e-04\n",
            "Epoch 77: val_loss did not improve from 0.00025\n",
            "160/160 [==============================] - 1s 9ms/step - loss: 2.5005e-04 - val_loss: 2.7130e-04\n",
            "Epoch 78/200\n",
            "156/160 [============================>.] - ETA: 0s - loss: 2.4921e-04\n",
            "Epoch 78: val_loss did not improve from 0.00025\n",
            "160/160 [==============================] - 1s 9ms/step - loss: 2.4887e-04 - val_loss: 2.6673e-04\n",
            "Epoch 79/200\n",
            "156/160 [============================>.] - ETA: 0s - loss: 2.4861e-04\n",
            "Epoch 79: val_loss did not improve from 0.00025\n",
            "160/160 [==============================] - 1s 8ms/step - loss: 2.4740e-04 - val_loss: 2.5414e-04\n"
          ]
        }
      ]
    },
    {
      "cell_type": "code",
      "source": [
        "plt.plot(history.history['loss']) \n",
        "plt.plot(history.history['val_loss']) #에포크는 6으로 측정\n",
        "plt.title('검증손실과 train_scale의 검증 손실 확인')"
      ],
      "metadata": {
        "colab": {
          "base_uri": "https://localhost:8080/",
          "height": 208
        },
        "id": "FE9AYdB0FruP",
        "outputId": "0b2af433-07f4-4834-f4a3-fa82dca2ec42"
      },
      "execution_count": 1,
      "outputs": [
        {
          "output_type": "error",
          "ename": "NameError",
          "evalue": "ignored",
          "traceback": [
            "\u001b[0;31m---------------------------------------------------------------------------\u001b[0m",
            "\u001b[0;31mNameError\u001b[0m                                 Traceback (most recent call last)",
            "\u001b[0;32m<ipython-input-1-24c316e9527c>\u001b[0m in \u001b[0;36m<module>\u001b[0;34m()\u001b[0m\n\u001b[0;32m----> 1\u001b[0;31m \u001b[0mplt\u001b[0m\u001b[0;34m.\u001b[0m\u001b[0mplot\u001b[0m\u001b[0;34m(\u001b[0m\u001b[0mhistory\u001b[0m\u001b[0;34m.\u001b[0m\u001b[0mhistory\u001b[0m\u001b[0;34m[\u001b[0m\u001b[0;34m'loss'\u001b[0m\u001b[0;34m]\u001b[0m\u001b[0;34m)\u001b[0m\u001b[0;34m\u001b[0m\u001b[0;34m\u001b[0m\u001b[0m\n\u001b[0m\u001b[1;32m      2\u001b[0m \u001b[0mplt\u001b[0m\u001b[0;34m.\u001b[0m\u001b[0mplot\u001b[0m\u001b[0;34m(\u001b[0m\u001b[0mhistory\u001b[0m\u001b[0;34m.\u001b[0m\u001b[0mhistory\u001b[0m\u001b[0;34m[\u001b[0m\u001b[0;34m'val_loss'\u001b[0m\u001b[0;34m]\u001b[0m\u001b[0;34m)\u001b[0m \u001b[0;31m#에포크는 6으로 측정\u001b[0m\u001b[0;34m\u001b[0m\u001b[0;34m\u001b[0m\u001b[0m\n\u001b[1;32m      3\u001b[0m \u001b[0mplt\u001b[0m\u001b[0;34m.\u001b[0m\u001b[0mtitle\u001b[0m\u001b[0;34m(\u001b[0m\u001b[0;34m'검증손실과 train_scale의 검증 손실 확인'\u001b[0m\u001b[0;34m)\u001b[0m\u001b[0;34m\u001b[0m\u001b[0;34m\u001b[0m\u001b[0m\n",
            "\u001b[0;31mNameError\u001b[0m: name 'plt' is not defined"
          ]
        }
      ]
    },
    {
      "cell_type": "code",
      "source": [
        "model.load_weights(filename)\n",
        "pred = model.predict(test_feature)\n",
        "##현재 모델에 대한 R-square\n",
        "print(model.evaluate(x_train,y_train))\n",
        "print(model.evaluate( x_valid, y_valid))\n",
        "##비슷함\n",
        "\n",
        "print(early_stop.stopped_epoch) #에포크는 1로 지정\n",
        "\n",
        "##검증점수 확인\n",
        "plt.figure(figsize=(12, 9))\n",
        "plt.plot(test_label, label = 'actual')\n",
        "plt.plot(pred, label = 'prediction')\n",
        "plt.legend()\n",
        "plt.show())\n",
        "##종료\n",
        "#강평\n",
        "  # LSTM은 기반이 되는 데이터들이 많을수록 예측에 도움이 된다\n",
        "  # 인공신경망, 심층신경망에서 파생된 개념이므로 어려운 개념이 절대 아니다. \n",
        "  # 알고 쓰자 ^^"
      ],
      "metadata": {
        "colab": {
          "base_uri": "https://localhost:8080/",
          "height": 628
        },
        "id": "XdrsWrafC0IU",
        "outputId": "5f5cbde5-21e2-4958-a7ca-a5c1f64baa9f"
      },
      "execution_count": null,
      "outputs": [
        {
          "output_type": "stream",
          "name": "stdout",
          "text": [
            "80/80 [==============================] - 0s 4ms/step - loss: 2.1711e-04\n",
            "0.00021711448789574206\n",
            "20/20 [==============================] - 0s 4ms/step - loss: 2.2577e-04\n",
            "0.00022577120398636907\n",
            "0\n"
          ]
        },
        {
          "output_type": "display_data",
          "data": {
            "image/png": "[encoded data removed]",
            "text/plain": [
              "<Figure size 864x648 with 1 Axes>"
            ]
          },
          "metadata": {
            "needs_background": "light"
          }
        }
      ]
    },
    {
      "cell_type": "code",
      "source": [
        ""
      ],
      "metadata": {
        "id": "Pjuk-wo9I2Xa"
      },
      "execution_count": null,
      "outputs": []
    },
    {
      "cell_type": "code",
      "source": [
        ""
      ],
      "metadata": {
        "id": "FVPVb0AzFWUx"
      },
      "execution_count": null,
      "outputs": []
    },
    {
      "cell_type": "code",
      "metadata": {
        "id": "qUbp_ePjUkgI"
      },
      "source": [
        ""
      ],
      "execution_count": null,
      "outputs": []
    },
    {
      "cell_type": "code",
      "source": [
        ""
      ],
      "metadata": {
        "id": "BdCVMC_9CyJh"
      },
      "execution_count": null,
      "outputs": []
    },
    {
      "cell_type": "code",
      "metadata": {
        "id": "UxIOrs6iFdHy"
      },
      "source": [
        ""
      ],
      "execution_count": null,
      "outputs": []
    },
    {
      "cell_type": "code",
      "source": [
        ""
      ],
      "metadata": {
        "id": "xfGijJ9bAux1"
      },
      "execution_count": null,
      "outputs": []
    },
    {
      "cell_type": "code",
      "metadata": {
        "id": "8YIedE6pGGtu"
      },
      "source": [
        ""
      ],
      "execution_count": null,
      "outputs": []
    },
    {
      "cell_type": "code",
      "metadata": {
        "id": "yLSfKpjSGqEE"
      },
      "source": [
        ""
      ],
      "execution_count": null,
      "outputs": []
    },
    {
      "cell_type": "code",
      "metadata": {
        "id": "kOpYo5tpG_u3"
      },
      "source": [
        ""
      ],
      "execution_count": null,
      "outputs": []
    },
    {
      "cell_type": "code",
      "metadata": {
        "id": "oifDo-aUN8I1"
      },
      "source": [
        ""
      ],
      "execution_count": null,
      "outputs": []
    },
    {
      "cell_type": "code",
      "metadata": {
        "id": "lXevO3aclFYO"
      },
      "source": [
        ""
      ],
      "execution_count": null,
      "outputs": []
    },
    {
      "cell_type": "code",
      "metadata": {
        "id": "XDvDaJ9z_tCr"
      },
      "source": [
        ""
      ],
      "execution_count": null,
      "outputs": []
    },
    {
      "cell_type": "code",
      "metadata": {
        "id": "aTrTiUWP1dmS"
      },
      "source": [
        ""
      ],
      "execution_count": null,
      "outputs": []
    },
    {
      "cell_type": "code",
      "metadata": {
        "id": "7J-tHR9StQFW"
      },
      "source": [
        ""
      ],
      "execution_count": null,
      "outputs": []
    },
    {
      "cell_type": "code",
      "metadata": {
        "id": "oDkGbQus8CF2"
      },
      "source": [
        ""
      ],
      "execution_count": null,
      "outputs": []
    },
    {
      "cell_type": "code",
      "metadata": {
        "id": "equGH0pQ8F3G"
      },
      "source": [
        ""
      ],
      "execution_count": null,
      "outputs": []
    },
    {
      "cell_type": "code",
      "metadata": {
        "id": "h3FwIR8xOj4e"
      },
      "source": [
        ""
      ],
      "execution_count": null,
      "outputs": []
    }
  ]
}
